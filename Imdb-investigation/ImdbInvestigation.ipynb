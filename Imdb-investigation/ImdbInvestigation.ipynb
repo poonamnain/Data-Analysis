{
 "cells": [
  {
   "cell_type": "markdown",
   "metadata": {},
   "source": [
    "\n",
    "# Project: Investigate a Dataset (Movie Data)\n",
    "\n",
    "## Table of Contents\n",
    "<ul>\n",
    "<li><a href=\"#intro\">Introduction</a></li>\n",
    "<li><a href=\"#wrangling\">Data Wrangling</a></li>\n",
    "<li><a href=\"#eda\">Exploratory Data Analysis</a></li>\n",
    "<li><a href=\"#conclusions\">Conclusions</a></li>\n",
    "</ul>"
   ]
  },
  {
   "cell_type": "markdown",
   "metadata": {},
   "source": [
    "<a id='intro'></a>\n",
    "## Introduction\n",
    "\n",
    "> We are going to look at movie data for analysis. It is the data from IMDB about movies. There is data about several movies from many years. Details like their popularity score, vote count, genre, budget, revenue, actor roster and more are given. I will analyze this data and learn more about movies, and hopefully will get some insight into the film industry trends over the years."
   ]
  },
  {
   "cell_type": "code",
   "execution_count": 2,
   "metadata": {},
   "outputs": [
    {
     "name": "stdout",
     "output_type": "stream",
     "text": [
      "Your current working directory: \n",
      " /Users/poonam/Documents/Poonam/DAND/DA-Project1\n",
      "\n",
      "Contents in your curent working directory: \n",
      " ['.DS_Store', 'DA-Project-MovieDataFinal.ipynb', 'DA-Project-MovieDataNew.py', 'DA-Project-MovieDataFinal-Rough.ipynb', 'DA-Project', '.ipynb_checkpoints', 'InvestigateDataset(MovieData)Poonam.ipynb', 'tmdb-movies.csv', 'DA-Project-MovieDataOld.py']\n"
     ]
    }
   ],
   "source": [
    "# Using this cell to set up import statements for all of the packages that I plan to use.\n",
    "\"\"\"\n",
    "Created on Wed Nov 15 12:22:41 2017\n",
    "\n",
    "@author: poonam\n",
    "\"\"\"\n",
    "# Import Libraries\n",
    "import os\n",
    "import numpy as np\n",
    "import pandas as pd\n",
    "import matplotlib.pyplot as plt\n",
    "import seaborn as sns\n",
    "\n",
    "#change your pathname here\n",
    "#DIR = \"Your Path Here\"\n",
    "\n",
    "DIR = \"/Users/poonam/Documents/Poonam/DAND/DA-Project1/\"\n",
    "os.chdir(DIR)\n",
    "print('Your current working directory: \\n', os.getcwd())\n",
    "print('\\nContents in your curent working directory: \\n', os.listdir(\".\"))"
   ]
  },
  {
   "cell_type": "markdown",
   "metadata": {},
   "source": [
    "<a id='wrangling'></a>\n",
    "## Data Wrangling"
   ]
  },
  {
   "cell_type": "markdown",
   "metadata": {},
   "source": [
    "### General\n",
    "Before we can get started on the fun stuff, we have to read in and examine our data. Let's trim and clean our dataset to make sure that this is good enough for our analysis.\n",
    "Let's get started loading in the data!"
   ]
  },
  {
   "cell_type": "code",
   "execution_count": 3,
   "metadata": {
    "collapsed": true
   },
   "outputs": [],
   "source": [
    "# Load your data and print out a few lines.\n",
    "# Read the csv file and create a DataFrame \n",
    "\n",
    "movie_data_df = pd.read_csv('tmdb-movies.csv')"
   ]
  },
  {
   "cell_type": "code",
   "execution_count": 4,
   "metadata": {},
   "outputs": [
    {
     "name": "stdout",
     "output_type": "stream",
     "text": [
      "                  id    popularity        budget       revenue       runtime  \\\n",
      "count   10866.000000  10866.000000  1.086600e+04  1.086600e+04  10866.000000   \n",
      "mean    66064.177434      0.646441  1.462570e+07  3.982332e+07    102.070863   \n",
      "std     92130.136561      1.000185  3.091321e+07  1.170035e+08     31.381405   \n",
      "min         5.000000      0.000065  0.000000e+00  0.000000e+00      0.000000   \n",
      "25%     10596.250000      0.207583  0.000000e+00  0.000000e+00     90.000000   \n",
      "50%     20669.000000      0.383856  0.000000e+00  0.000000e+00     99.000000   \n",
      "75%     75610.000000      0.713817  1.500000e+07  2.400000e+07    111.000000   \n",
      "max    417859.000000     32.985763  4.250000e+08  2.781506e+09    900.000000   \n",
      "\n",
      "         vote_count  vote_average  release_year    budget_adj   revenue_adj  \n",
      "count  10866.000000  10866.000000  10866.000000  1.086600e+04  1.086600e+04  \n",
      "mean     217.389748      5.974922   2001.322658  1.755104e+07  5.136436e+07  \n",
      "std      575.619058      0.935142     12.812941  3.430616e+07  1.446325e+08  \n",
      "min       10.000000      1.500000   1960.000000  0.000000e+00  0.000000e+00  \n",
      "25%       17.000000      5.400000   1995.000000  0.000000e+00  0.000000e+00  \n",
      "50%       38.000000      6.000000   2006.000000  0.000000e+00  0.000000e+00  \n",
      "75%      145.750000      6.600000   2011.000000  2.085325e+07  3.369710e+07  \n",
      "max     9767.000000      9.200000   2015.000000  4.250000e+08  2.827124e+09  \n"
     ]
    }
   ],
   "source": [
    "# Describe the dataframe to see if its created properly, and see other details.\n",
    "\n",
    "print (movie_data_df.describe()) #Status about each column"
   ]
  },
  {
   "cell_type": "code",
   "execution_count": 5,
   "metadata": {},
   "outputs": [
    {
     "name": "stdout",
     "output_type": "stream",
     "text": [
      "id                      10866\n",
      "imdb_id                 10856\n",
      "popularity              10866\n",
      "budget                  10866\n",
      "revenue                 10866\n",
      "original_title          10866\n",
      "cast                    10790\n",
      "homepage                 2936\n",
      "director                10822\n",
      "tagline                  8042\n",
      "keywords                 9373\n",
      "overview                10862\n",
      "runtime                 10866\n",
      "genres                  10843\n",
      "production_companies     9836\n",
      "release_date            10866\n",
      "vote_count              10866\n",
      "vote_average            10866\n",
      "release_year            10866\n",
      "budget_adj              10866\n",
      "revenue_adj             10866\n",
      "dtype: int64\n"
     ]
    }
   ],
   "source": [
    "# I will check the number of rows first \n",
    "print (movie_data_df.count())"
   ]
  },
  {
   "cell_type": "markdown",
   "metadata": {},
   "source": [
    "### Data Cleaning\n",
    "From the above output I see that not all the columns have equal rows. The column 'imdb_id' has one row less, column 'homepage' has just 2936 values against the total of 10866, and similarly columns 'keywords' amd 'production_companies' have lesser values.\n",
    "\n",
    "These are just the details related columns, and none of these are numeric value columns. My first anlysis is going to be on budget and revenue patterns over the years. As these two columns do not have any missing values, I wouldn't worry for data cleaning part for now."
   ]
  },
  {
   "cell_type": "markdown",
   "metadata": {},
   "source": [
    "<a id='eda'></a>\n",
    "## Exploratory Data Analysis"
   ]
  },
  {
   "cell_type": "markdown",
   "metadata": {},
   "source": [
    "### Correlation between budget and revenue\n",
    "I am interested to know if there is any relation between budget and revenue."
   ]
  },
  {
   "cell_type": "markdown",
   "metadata": {},
   "source": [
    "### Group by Release Year\n",
    "I want to check the max and min values of budget and revenue in a year. \n",
    "As there are many movies in a release year, I would first consolidate the budget and revenue values for a release year\n",
    "and then plot the graph. I will use the groupby function on release year for that."
   ]
  },
  {
   "cell_type": "code",
   "execution_count": 20,
   "metadata": {},
   "outputs": [
    {
     "name": "stdout",
     "output_type": "stream",
     "text": [
      "release_year\n",
      "1960    22056948\n",
      "1961    46137000\n",
      "1962    54722126\n",
      "1963    73331500\n",
      "1964    39483161\n",
      "Name: budget, dtype: int64\n"
     ]
    },
    {
     "data": {
      "image/png": "[encoded data removed]",
      "text/plain": [
       "<matplotlib.figure.Figure at 0x109426b70>"
      ]
     },
     "metadata": {},
     "output_type": "display_data"
    },
    {
     "name": "stdout",
     "output_type": "stream",
     "text": [
      "release_year\n",
      "1960    145005000\n",
      "1961    337720188\n",
      "1962    215579846\n",
      "1963    187404989\n",
      "1964    340981782\n",
      "Name: revenue, dtype: int64\n"
     ]
    },
    {
     "data": {
      "image/png": "[encoded data removed]",
      "text/plain": [
       "<matplotlib.figure.Figure at 0x104a00cc0>"
      ]
     },
     "metadata": {},
     "output_type": "display_data"
    }
   ],
   "source": [
    "grouped_by_year_budget =  ((movie_data_df.groupby('release_year')).sum()['budget'])\n",
    "print (grouped_by_year_budget.head())\n",
    "plt.title('Line plot for year wise budget', fontsize=20)\n",
    "plt.xlabel('Budget', fontsize=18)\n",
    "plt.ylabel('Value in Dollars', fontsize=18)\n",
    "grouped_by_year_budget.plot()\n",
    "plt.show()\n",
    "\n",
    "grouped_by_year_revenue =  ((movie_data_df.groupby('release_year')).sum()['revenue'])\n",
    "print (grouped_by_year_revenue.head())\n",
    "plt.title('Line plot for year wise revenue', fontsize=20)\n",
    "plt.xlabel('Revenue', fontsize=18)\n",
    "plt.ylabel('Value in Dollars', fontsize=18)\n",
    "grouped_by_year_revenue.plot()\n",
    "plt.show()"
   ]
  },
  {
   "cell_type": "markdown",
   "metadata": {},
   "source": [
    "We see that in the above output, the budget and revenue are increasing year on year. \n",
    "Does this mean more the budget more the revenue?\n",
    "I'd like to investigate this further.\n",
    "\n",
    "In the next cell lets find out the release year for max and min budget and revenues.\n",
    "Here again I would use the group by function on release year, to consolidate the budget and revenue values for a release year."
   ]
  },
  {
   "cell_type": "code",
   "execution_count": 6,
   "metadata": {},
   "outputs": [
    {
     "name": "stdout",
     "output_type": "stream",
     "text": [
      "Budget was minimum in year 1960\n",
      "Revenue was minimum in year 1966\n",
      "Budget was maximum in year 2010\n",
      "Revenue was maximum in year 2015\n"
     ]
    }
   ],
   "source": [
    "# I want to check the max and min values of budget and revenue in a year. \n",
    "# As there are many movies in a release year, I would first consolidate the budget and revenue values for a release year\n",
    "# and then plot the graph. I will use the groupby function on release year for that.\n",
    "\n",
    "release_year_for_min_budget= ((movie_data_df.groupby('release_year')).sum()['budget'].argmin())\n",
    "release_year_for_min_revenue=  ((movie_data_df.groupby('release_year')).sum()['revenue'].argmin())\n",
    "print ('Budget was minimum in year', release_year_for_min_budget)\n",
    "print ('Revenue was minimum in year', release_year_for_min_revenue)\n",
    "\n",
    "release_year_for_max_budget= ((movie_data_df.groupby('release_year')).sum()['budget'].argmax())\n",
    "release_year_for_max_revenue=  ((movie_data_df.groupby('release_year')).sum()['revenue'].argmax())\n",
    "print ('Budget was maximum in year', release_year_for_max_budget)\n",
    "print ('Revenue was maximum in year', release_year_for_max_revenue)"
   ]
  },
  {
   "cell_type": "markdown",
   "metadata": {},
   "source": [
    "Our previous assumption was that whenever budget is high the revenue is high. From the above output we see that the release year for max and min budget and the corresponding release year for max and min revenue do not match. However we see that minimum and max are very closely tied to time. This also points to something else that's shown by our charts above, as we had seen lower budgets and revenues in the early years and higher budgets and revenues in later years. \n",
    "\n",
    "Our line plot had shown a pretty steady increase in both budget and revenue year on year, so there is a correleation, but not a causation.\n",
    "Lets calculate the correlation coefficient between these 2 values to be more clear."
   ]
  },
  {
   "cell_type": "code",
   "execution_count": 7,
   "metadata": {},
   "outputs": [
    {
     "data": {
      "image/png": "[encoded data removed]",
      "text/plain": [
       "<matplotlib.figure.Figure at 0x10c3aef60>"
      ]
     },
     "metadata": {},
     "output_type": "display_data"
    }
   ],
   "source": [
    "chart = plt.scatter(x=movie_data_df.budget, y=movie_data_df.revenue) #scatter chart between budget and revenue\n",
    "plt.title('Correlation between Budget and Revenue', fontsize=20)\n",
    "plt.xlabel('Budget', fontsize=18)\n",
    "plt.ylabel('Revenue', fontsize=18)\n",
    "plt.show()\n",
    "# Scatter chart shows a pretty strong relation between budget and revenue "
   ]
  },
  {
   "cell_type": "code",
   "execution_count": 9,
   "metadata": {},
   "outputs": [
    {
     "name": "stdout",
     "output_type": "stream",
     "text": [
      "0.7349006819076017\n"
     ]
    }
   ],
   "source": [
    "# Write code to get the correlation coefficient between budget and revenue to acertain a relation b/w these 2 values\n",
    "# A positive correlation nearer to 1 would mean a strong correlation. In this case it is .7\n",
    "\n",
    "def correlation(x,y):\n",
    "    std_x= (x-x.mean())/x.std(ddof=0)\n",
    "    std_y= (y-y.mean())/y.std(ddof=0)\n",
    "    return (std_x * std_y).mean()\n",
    "\n",
    "print (correlation (movie_data_df.budget, movie_data_df.revenue))"
   ]
  },
  {
   "cell_type": "markdown",
   "metadata": {},
   "source": [
    "The above correlation coefficient is positive and close to 1, so it means revenue and budget are strongly related. Its a good sign for film makers atleast that films that spend more on the making, eventually make profit. It would be interesting to know which is that one movie where the budget to revenue ratio is the minimum, that is where a huge amount was spent but the earnings were not proportionate. Though we are not working on this any further here, let's know something about the poupular movies."
   ]
  },
  {
   "cell_type": "markdown",
   "metadata": {},
   "source": [
    "### Genres of the most and least popular movies so far\n",
    "\n",
    "So First I would get the max and min value of popularity, then I would see their corresponding titles."
   ]
  },
  {
   "cell_type": "code",
   "execution_count": 26,
   "metadata": {},
   "outputs": [
    {
     "name": "stdout",
     "output_type": "stream",
     "text": [
      "32.985763\n",
      "0\n",
      "Jurassic World\n",
      "Action|Adventure|Science Fiction|Thriller\n"
     ]
    }
   ],
   "source": [
    "# Check the name of the movie that got max popularity.\n",
    "print (movie_data_df['popularity'].max())\n",
    "index_of_max_popularity = (movie_data_df['popularity'].argmax())\n",
    "print (index_of_max_popularity)\n",
    "title_of_most_popular = movie_data_df.loc[index_of_max_popularity,'original_title']\n",
    "genre_of_most_popular = movie_data_df.loc[index_of_max_popularity,'genres']\n",
    "print (title_of_most_popular)\n",
    "print (genre_of_most_popular)"
   ]
  },
  {
   "cell_type": "code",
   "execution_count": 27,
   "metadata": {},
   "outputs": [
    {
     "name": "stdout",
     "output_type": "stream",
     "text": [
      "6.5e-05\n",
      "6181\n",
      "North and South, Book I\n",
      "Drama|History|Western\n"
     ]
    }
   ],
   "source": [
    "# Check the name of the movie that got min popularity.\n",
    "print (movie_data_df['popularity'].min())\n",
    "index_of_min_popularity = (movie_data_df['popularity'].argmin())\n",
    "print (index_of_min_popularity)\n",
    "title_of_least_popular = movie_data_df.loc[index_of_min_popularity,'original_title']\n",
    "genre_of_least_popular = movie_data_df.loc[index_of_min_popularity,'genres']\n",
    "print (title_of_least_popular)\n",
    "print (genre_of_least_popular)"
   ]
  },
  {
   "cell_type": "markdown",
   "metadata": {},
   "source": [
    "How about seeing the top five most and least popular movies in the entire set, and finding their corresponding genres."
   ]
  },
  {
   "cell_type": "code",
   "execution_count": 11,
   "metadata": {},
   "outputs": [
    {
     "name": "stdout",
     "output_type": "stream",
     "text": [
      "Top Five Movies by Popularity:\n",
      "             original_title                                     genres  \\\n",
      "0           Jurassic World  Action|Adventure|Science Fiction|Thriller   \n",
      "1       Mad Max: Fury Road  Action|Adventure|Science Fiction|Thriller   \n",
      "2             Interstellar            Adventure|Drama|Science Fiction   \n",
      "3  Guardians of the Galaxy           Action|Science Fiction|Adventure   \n",
      "4                Insurgent         Adventure|Science Fiction|Thriller   \n",
      "\n",
      "   popularity  release_year  \n",
      "0   32.985763          2015  \n",
      "1   28.419936          2015  \n",
      "2   24.949134          2014  \n",
      "3   14.311205          2014  \n",
      "4   13.112507          2015  \n",
      "\n",
      "\n",
      "Bottom Five Movies by Popularity:\n",
      "                    original_title                 genres  popularity  \\\n",
      "10865     North and South, Book I  Drama|History|Western    0.000065   \n",
      "10864                The Hospital   Mystery|Comedy|Drama    0.000188   \n",
      "10863                      G.B.F.                 Comedy    0.000620   \n",
      "10862  Mon petit doigt m'a dit...         Comedy|Mystery    0.000973   \n",
      "10861           Khosla Ka Ghosla!                 Comedy    0.001115   \n",
      "\n",
      "       release_year  \n",
      "10865          1985  \n",
      "10864          1971  \n",
      "10863          2013  \n",
      "10862          2005  \n",
      "10861          2006  \n"
     ]
    }
   ],
   "source": [
    "movie_data_df.sort_values('popularity', ascending=False, inplace=True)\n",
    "movie_data_df.reset_index(inplace=True)\n",
    "print(\"Top Five Movies by Popularity:\\n\", movie_data_df[['original_title','genres', 'popularity', 'release_year']].head()) \n",
    "print(\"\\n\")\n",
    "print(\"Bottom Five Movies by Popularity:\\n\", movie_data_df[['original_title','genres', 'popularity', 'release_year']].tail()[::-1])"
   ]
  },
  {
   "cell_type": "markdown",
   "metadata": {},
   "source": [
    "<a id='conclusions'></a>\n",
    "## Conclusions"
   ]
  },
  {
   "cell_type": "markdown",
   "metadata": {},
   "source": [
    "<a id='conclusions'></a>\n",
    "## Correlation between budget and revenue\n",
    "\n",
    "My analysis showed that there is strong correlation between budget and revenue, but this is just correlation and not causation. As we had seen that its not always necessary that the revenue for a year is highest if the budget allocated for the year is highest. This can further be broken down to the level of a single movie. \n",
    "Limitation in my analysis is that I am drawing conclusions here based on values for a certain release year, and not based on values correspoding to a single movie."
   ]
  },
  {
   "cell_type": "markdown",
   "metadata": {},
   "source": [
    "<a id='conclusions'></a>\n",
    "## Minimum and maximum popular movies and genres\n",
    "I got Jurassic World as the most popular movie and North and South as the least popular movie.\n",
    "This seems to be true!!\n",
    "Looks like adventure, science fiction, thriller are the most popular genres and year 2014 and 2015 were golden years for film industry."
   ]
  },
  {
   "cell_type": "code",
   "execution_count": 13,
   "metadata": {},
   "outputs": [
    {
     "data": {
      "text/plain": [
       "0"
      ]
     },
     "execution_count": 13,
     "metadata": {},
     "output_type": "execute_result"
    }
   ],
   "source": [
    "from subprocess import call\n",
    "call(['python', '-m', 'nbconvert', 'InvestigateDataset(MovieData)Poonam.ipynb'])"
   ]
  },
  {
   "cell_type": "code",
   "execution_count": null,
   "metadata": {
    "collapsed": true
   },
   "outputs": [],
   "source": []
  }
 ],
 "metadata": {
  "kernelspec": {
   "display_name": "Python 3",
   "language": "python",
   "name": "python3"
  },
  "language_info": {
   "codemirror_mode": {
    "name": "ipython",
    "version": 3
   },
   "file_extension": ".py",
   "mimetype": "text/x-python",
   "name": "python",
   "nbconvert_exporter": "python",
   "pygments_lexer": "ipython3",
   "version": "3.6.3"
  }
 },
 "nbformat": 4,
 "nbformat_minor": 2
}
